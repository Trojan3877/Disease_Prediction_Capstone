# Exploratory Data Analysis for Disease Prediction Dataset

import pandas as pd
import seaborn as sns
import matplotlib.pyplot as plt

# Load dataset
df = pd.read_csv('../data/raw/disease_dataset.csv')

# Display dataset shape and first few rows
print("Dataset Shape:", df.shape)
df.head()

# Check for missing values
print("Missing Values:\n", df.isnull().sum())

# Plot distribution of target variable
sns.countplot(x='disease', data=df)
plt.title("Distribution of Disease Classes")
plt.xlabel("Disease Type")
plt.ylabel("Frequency")
plt.show()

# Correlation heatmap
plt.figure(figsize=(10, 8))
sns.heatmap(df.corr(), annot=True, fmt=".2f", cmap='coolwarm')
plt.title("Feature Correlation Heatmap")
plt.show()
